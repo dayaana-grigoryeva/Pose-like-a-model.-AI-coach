{
 "cells": [
  {
   "cell_type": "code",
   "execution_count": null,
   "metadata": {},
   "outputs": [],
   "source": [
    "import cv2\n",
    "import mediapipe as mp\n",
    "import numpy as np\n",
    "import os\n",
    "import csv\n",
    "import pandas as pd\n",
    "import PoseClassModule as ps"
   ]
  },
  {
   "cell_type": "code",
   "execution_count": null,
   "metadata": {},
   "outputs": [],
   "source": [
    "from sklearn.preprocessing import StandardScaler \n",
    "from sklearn.ensemble import RandomForestClassifier\n",
    "import pickle \n",
    "from sklearn.model_selection import train_test_split"
   ]
  },
  {
   "cell_type": "code",
   "execution_count": null,
   "metadata": {},
   "outputs": [],
   "source": [
    "mp_drawing = mp.solutions.drawing_utils\n",
    "mp_pose = mp.solutions.pose"
   ]
  },
  {
   "cell_type": "code",
   "execution_count": null,
   "metadata": {},
   "outputs": [],
   "source": [
    "df = pd.read_csv('coords.csv')"
   ]
  },
  {
   "cell_type": "code",
   "execution_count": null,
   "metadata": {},
   "outputs": [],
   "source": [
    "X = df.drop('class', axis=1) \n",
    "y = df['class']\n",
    "\n",
    "X_train, X_test, y_train, y_test = train_test_split(X, y, test_size=0.3, random_state=1234)\n"
   ]
  },
  {
   "cell_type": "code",
   "execution_count": null,
   "metadata": {},
   "outputs": [],
   "source": [
    "rf = RandomForestClassifier()\n",
    "model = rf.fit(X_train, y_train)"
   ]
  },
  {
   "cell_type": "code",
   "execution_count": null,
   "metadata": {},
   "outputs": [],
   "source": [
    "#Saving model\n",
    "with open('class_model.pkl', 'wb') as f:\n",
    "    pickle.dump(model, f)\n",
    "\n",
    "with open('class_model.pkl', 'rb') as f:\n",
    "    model = pickle.load(f)"
   ]
  },
  {
   "cell_type": "code",
   "execution_count": null,
   "metadata": {},
   "outputs": [],
   "source": [
    "#Detecting pose class\n",
    "cap = cv2.VideoCapture(os.path.join(ps.file_path, 'posing_2x.mp4'))\n",
    "\n",
    "with mp_pose.Pose(min_detection_confidence=0.4, min_tracking_confidence=0.4) as pose:\n",
    "\n",
    "    while cap.isOpened():\n",
    "\n",
    "        ret, frame = cap.read()\n",
    "        if ret==False: #break if video ended\n",
    "            break\n",
    "\n",
    "        frame=cv2.resize(frame, (frame.shape[1] // 2,frame.shape[0] // 2))\n",
    "        # Recolor to RGB\n",
    "        image = cv2.cvtColor(frame, cv2.COLOR_BGR2RGB)\n",
    "        image.flags.writeable = False\n",
    "      \n",
    "        # Estimation\n",
    "        results = pose.process(image)\n",
    "    \n",
    "        # Recolor to BGR\n",
    "        image.flags.writeable = True\n",
    "        image = cv2.cvtColor(image, cv2.COLOR_RGB2BGR)\n",
    "                   \n",
    "        # Drawing\n",
    "        mp_drawing.draw_landmarks(image, results.pose_landmarks, mp_pose.POSE_CONNECTIONS)         \n",
    "\n",
    "        try:\n",
    "            # Extract Pose landmarks\n",
    "            pose_class = results.pose_landmarks.landmark\n",
    "            row= []\n",
    "            for landmark in range(len(pose_class)):\n",
    "                row.extend([pose_class[landmark].x, pose_class[landmark].y, pose_class[landmark].z, pose_class[landmark].visibility])\n",
    "                \n",
    "            X = pd.DataFrame([row])\n",
    "            pose_class = model.predict(X)[0]\n",
    "            pose_prob = model.predict_proba(X)[0]\n",
    "\n",
    "            for i in range(5):\n",
    "                \n",
    "                if pose_prob[i] > 0.75:\n",
    "                   \n",
    "                    cv2.rectangle(image, (0,0), (250, 60), (245, 117, 16), -1)\n",
    "                    \n",
    "                    # Pose class\n",
    "                    cv2.putText(image, 'POSE'\n",
    "                                , (95,12), cv2.FONT_HERSHEY_SIMPLEX, 0.5, (0, 0, 0), 1, cv2.LINE_AA)\n",
    "                    cv2.putText(image, pose_class.split(' ')[0]\n",
    "                                , (90,40), cv2.FONT_HERSHEY_SIMPLEX, 1, (255, 255, 255), 2, cv2.LINE_AA)\n",
    "                    \n",
    "                    # Probability\n",
    "                    cv2.putText(image, 'SCORE'\n",
    "                                , (15,12), cv2.FONT_HERSHEY_SIMPLEX, 0.5, (0, 0, 0), 1, cv2.LINE_AA)\n",
    "                    cv2.putText(image, str(round(pose_prob[np.argmax(pose_prob)],2))\n",
    "                                , (10,40), cv2.FONT_HERSHEY_SIMPLEX, 1, (255, 255, 255), 2, cv2.LINE_AA)\n",
    "     \n",
    "        except:\n",
    "            pass      \n",
    "        \n",
    "        cv2.imshow('Posing', image)\n",
    "\n",
    "        k = cv2.waitKey(1) & 0xFF\n",
    "        if k == 27:         #ESC key to exit\n",
    "            break\n",
    "\n",
    "cap.release()\n",
    "cv2.destroyAllWindows()"
   ]
  }
 ],
 "metadata": {
  "interpreter": {
   "hash": "1378406d30e23ffd533067d2cc0ae655716fa1dcfaca89a5e808373daa4d034a"
  },
  "kernelspec": {
   "display_name": "Python 3.7.11 ('myenv': conda)",
   "language": "python",
   "name": "python3"
  },
  "language_info": {
   "codemirror_mode": {
    "name": "ipython",
    "version": 3
   },
   "file_extension": ".py",
   "mimetype": "text/x-python",
   "name": "python",
   "nbconvert_exporter": "python",
   "pygments_lexer": "ipython3",
   "version": "3.7.11"
  },
  "orig_nbformat": 4
 },
 "nbformat": 4,
 "nbformat_minor": 2
}
